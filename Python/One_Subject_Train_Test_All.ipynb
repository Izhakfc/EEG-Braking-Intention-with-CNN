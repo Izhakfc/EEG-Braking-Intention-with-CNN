{
  "nbformat": 4,
  "nbformat_minor": 0,
  "metadata": {
    "colab": {
      "name": "Subject10_AllSubjects.ipynb",
      "provenance": [],
      "collapsed_sections": [],
      "toc_visible": true
    },
    "kernelspec": {
      "name": "python3",
      "display_name": "Python 3"
    }
  },
  "cells": [
    {
      "cell_type": "code",
      "metadata": {
        "id": "OJOw8X_LIrgq"
      },
      "source": [
        "from tensorflow import keras\n",
        "import numpy as np\n",
        "import matplotlib.pyplot as plt\n",
        "import pandas as pd\n",
        "import tensorflow as tf"
      ],
      "execution_count": null,
      "outputs": []
    },
    {
      "cell_type": "markdown",
      "metadata": {
        "id": "DoH7FvZedSYm"
      },
      "source": [
        "# **Load the data of one subject for training and all the others for testing**\n",
        "\n",
        "*   The data used in this examples was first preprocessed separately in Matlab using FieldTrip toolbox.\n",
        "*   The correct input shape for tensorflow backend is **(sample_number,sample_size,channel_number)**.\n",
        "*   Example below uses Subject #10 for training and all remaining subjects for testing.\n",
        "*   Standarization and Normalization were **not used** in this example."
      ]
    },
    {
      "cell_type": "code",
      "metadata": {
        "id": "zP4vKa5TKgsk"
      },
      "source": [
        "import scipy.io as sio\n",
        "Samples = sio.loadmat('Xtrain_S10_alltrials.mat')\n",
        "Labels = sio.loadmat('Labels.mat')\n",
        "X = Samples['Xtrain']\n",
        "Y = Labels['Y10']"
      ],
      "execution_count": null,
      "outputs": []
    },
    {
      "cell_type": "code",
      "metadata": {
        "id": "Gw5_hlUeLC2e",
        "colab": {
          "base_uri": "https://localhost:8080/"
        },
        "outputId": "16c9833a-dcc8-4860-8014-3cde3e27e99b"
      },
      "source": [
        "X = X.swapaxes(0, 2)\n",
        "Y = Y.swapaxes(0,1)\n",
        "print(X.shape)\n",
        "print(Y.shape)"
      ],
      "execution_count": null,
      "outputs": [
        {
          "output_type": "stream",
          "text": [
            "(248, 376, 28)\n",
            "(248, 1)\n"
          ],
          "name": "stdout"
        }
      ]
    },
    {
      "cell_type": "code",
      "metadata": {
        "id": "hLUFNwr5MQlv"
      },
      "source": [
        "from sklearn.model_selection import train_test_split\n",
        "X_train, X_test, Y_train, Y_test = train_test_split(X, Y, test_size=0.2, random_state=42)"
      ],
      "execution_count": null,
      "outputs": []
    },
    {
      "cell_type": "code",
      "metadata": {
        "id": "Sx7icR8_M-UW",
        "colab": {
          "base_uri": "https://localhost:8080/"
        },
        "outputId": "7d992e94-31a4-44c0-b372-122fda40888f"
      },
      "source": [
        "print(X_train.shape)\n",
        "print(X_test.shape)\n",
        "print(Y_train.shape)\n",
        "print(Y_test.shape)"
      ],
      "execution_count": null,
      "outputs": [
        {
          "output_type": "stream",
          "text": [
            "(198, 376, 28)\n",
            "(50, 376, 28)\n",
            "(198, 1)\n",
            "(50, 1)\n"
          ],
          "name": "stdout"
        }
      ]
    },
    {
      "cell_type": "code",
      "metadata": {
        "id": "VSrFNMND_zI_"
      },
      "source": [
        "X_train = X_train.reshape(X_train.shape[0], 376, 28).astype('float64')\n",
        "X_test = X_test.reshape(X_test.shape[0], 376, 28).astype('float64')"
      ],
      "execution_count": null,
      "outputs": []
    },
    {
      "cell_type": "code",
      "metadata": {
        "id": "aw9T-G7JaDUe"
      },
      "source": [
        "from sklearn.preprocessing import StandardScaler\n",
        "scaler = StandardScaler()\n",
        "Xtrain = scaler.fit_transform(X_train.reshape(-1, X_train.shape[-1])).reshape(X_train.shape)\n",
        "print(Xtrain)\n",
        "Xtest = scaler.fit_transform(X_test.reshape(-1, X_test.shape[-1])).reshape(X_test.shape)"
      ],
      "execution_count": null,
      "outputs": []
    },
    {
      "cell_type": "code",
      "metadata": {
        "id": "StDBEuCdbDgD"
      },
      "source": [
        "from sklearn.preprocessing import Normalizer\n",
        "print(Xtrain)\n",
        "scaler = Normalizer(norm='l1', copy=False)\n",
        "x_train = scaler.fit_transform(Xtrain.reshape(Xtrain.shape[0], -1)).reshape(Xtrain.shape)\n",
        "x_test = scaler.transform(Xtest.reshape(Xtest.shape[0], -1)).reshape(Xtest.shape)"
      ],
      "execution_count": null,
      "outputs": []
    },
    {
      "cell_type": "code",
      "metadata": {
        "id": "UfdzElvCacq9"
      },
      "source": [
        "\n",
        "print(x_train)"
      ],
      "execution_count": null,
      "outputs": []
    },
    {
      "cell_type": "code",
      "metadata": {
        "id": "icgNKppMbyt7"
      },
      "source": [
        "num_classes = len(np.unique(Y_train))"
      ],
      "execution_count": null,
      "outputs": []
    },
    {
      "cell_type": "code",
      "metadata": {
        "colab": {
          "base_uri": "https://localhost:8080/"
        },
        "id": "fRzx8uojb2DF",
        "outputId": "ced30356-1474-43c9-94aa-06195d03ac9c"
      },
      "source": [
        "print(num_classes)"
      ],
      "execution_count": null,
      "outputs": [
        {
          "output_type": "stream",
          "text": [
            "2\n"
          ],
          "name": "stdout"
        }
      ]
    },
    {
      "cell_type": "markdown",
      "metadata": {
        "id": "VDCmSHsGePL1"
      },
      "source": [
        "# **Create a CNN model**\n",
        "\n",
        "The designed model for this classification was as follows:\n",
        "\n",
        "\n",
        "*   A 1D convolutional layer with kernel size of 3 yielding 64 filters.\n",
        "*   A Batch Normalization layer.\n",
        "*   A ReLu layer.\n",
        "*   A dropout layer.\n",
        "\n",
        "This layering order was repeated three times. After this a global average pooling layer gets the average for the channels of each trial. Finally a dense layer acting as a fully connected layer was placed in the CNN architecture with a sigmoig activation function.\n",
        "\n",
        "For this test, the CNN model was trained using the data from one of the subjects and tested with all of the other remaining 11 subjects."
      ]
    },
    {
      "cell_type": "code",
      "metadata": {
        "id": "oJ1l825EcGxG",
        "colab": {
          "base_uri": "https://localhost:8080/",
          "height": 1000
        },
        "outputId": "d2a00dda-a9c1-431b-8f42-52d3594a2d04"
      },
      "source": [
        "input_shape =(376,28)\n",
        "def make_model(input_shape):\n",
        "    input_layer = keras.layers.Input(input_shape)\n",
        "\n",
        "    conv1 = keras.layers.Conv1D(filters=64, kernel_size=3, padding=\"same\")(input_layer)\n",
        "    conv1 = keras.layers.BatchNormalization()(conv1)\n",
        "    conv1 = keras.layers.ReLU()(conv1)\n",
        "    conv1 = keras.layers.Dropout(.2)(conv1)\n",
        "\n",
        "    conv2 = keras.layers.Conv1D(filters=64, kernel_size=3, padding=\"same\")(conv1)\n",
        "    conv2 = keras.layers.BatchNormalization()(conv2)\n",
        "    conv2 = keras.layers.ReLU()(conv2)\n",
        "    conv2 = keras.layers.Dropout(.2)(conv2)\n",
        "\n",
        "    conv3 = keras.layers.Conv1D(filters=64, kernel_size=3, padding=\"same\")(conv2)\n",
        "    conv3 = keras.layers.BatchNormalization()(conv3)\n",
        "    conv3 = keras.layers.ReLU()(conv3)\n",
        "    conv3 = keras.layers.Dropout(.2)(conv3)\n",
        "\n",
        "    gap = keras.layers.GlobalAveragePooling1D()(conv3)\n",
        "\n",
        "    output_layer = keras.layers.Dense(1, activation=\"sigmoid\")(gap)\n",
        "\n",
        "    return keras.models.Model(inputs=input_layer, outputs=output_layer)\n",
        "\n",
        "\n",
        "model = make_model(input_shape=X_train.shape[1:])\n",
        "keras.utils.plot_model(model, show_shapes=True)"
      ],
      "execution_count": null,
      "outputs": [
        {
          "output_type": "execute_result",
          "data": {
            "image/png": "[encoded data removed]",
            "text/plain": [
              "<IPython.core.display.Image object>"
            ]
          },
          "metadata": {
            "tags": []
          },
          "execution_count": 9
        }
      ]
    },
    {
      "cell_type": "code",
      "metadata": {
        "id": "KrXUJONdFKbB",
        "colab": {
          "base_uri": "https://localhost:8080/"
        },
        "outputId": "9d1c49f7-501e-4030-89f0-699a732264fe"
      },
      "source": [
        "epochs = 500\n",
        "batch_size = 2\n",
        "\n",
        "callbacks = [\n",
        "    keras.callbacks.ModelCheckpoint(\n",
        "        \"Subject10_Model.h5\", save_best_only=True, monitor=\"val_loss\"\n",
        "    ),\n",
        "    keras.callbacks.ReduceLROnPlateau(\n",
        "        monitor=\"val_loss\", factor=0.5, patience=20, min_lr=0.0001\n",
        "    ),\n",
        "    keras.callbacks.EarlyStopping(monitor=\"val_loss\", patience=50, verbose=1),\n",
        "]\n",
        "model.compile(\n",
        "    optimizer=\"adam\",\n",
        "    #loss = \"sparse_categorical_crossentropy\",\n",
        "    loss=\"binary_crossentropy\",\n",
        "    metrics=[\"accuracy\",keras.metrics.TruePositives(name='tp'),\n",
        "           keras.metrics.FalsePositives(name='fp'),\n",
        "           keras.metrics.TrueNegatives(name='tn'),\n",
        "           keras.metrics.FalseNegatives(name='fn')]\n",
        ")\n",
        "history = model.fit(\n",
        "    X_train,\n",
        "    Y_train,\n",
        "    batch_size=batch_size,\n",
        "    epochs=epochs,\n",
        "    callbacks=callbacks,\n",
        "    validation_split=0.2,\n",
        "    verbose=1,\n",
        ")"
      ],
      "execution_count": null,
      "outputs": [
        {
          "output_type": "stream",
          "text": [
            "Epoch 1/500\n",
            "79/79 [==============================] - 2s 20ms/step - loss: 0.4855 - accuracy: 0.7215 - tp: 53.0000 - fp: 17.0000 - tn: 61.0000 - fn: 27.0000 - val_loss: 0.2946 - val_accuracy: 0.9250 - val_tp: 20.0000 - val_fp: 3.0000 - val_tn: 17.0000 - val_fn: 0.0000e+00\n",
            "Epoch 2/500\n",
            "79/79 [==============================] - 1s 12ms/step - loss: 0.4398 - accuracy: 0.7658 - tp: 65.0000 - fp: 22.0000 - tn: 56.0000 - fn: 15.0000 - val_loss: 0.2687 - val_accuracy: 0.9750 - val_tp: 20.0000 - val_fp: 1.0000 - val_tn: 19.0000 - val_fn: 0.0000e+00\n",
            "Epoch 3/500\n",
            "79/79 [==============================] - 1s 13ms/step - loss: 0.4159 - accuracy: 0.8228 - tp: 68.0000 - fp: 16.0000 - tn: 62.0000 - fn: 12.0000 - val_loss: 0.2335 - val_accuracy: 0.9750 - val_tp: 20.0000 - val_fp: 1.0000 - val_tn: 19.0000 - val_fn: 0.0000e+00\n",
            "Epoch 4/500\n",
            "79/79 [==============================] - 1s 12ms/step - loss: 0.3153 - accuracy: 0.9114 - tp: 73.0000 - fp: 7.0000 - tn: 71.0000 - fn: 7.0000 - val_loss: 0.1798 - val_accuracy: 0.9750 - val_tp: 20.0000 - val_fp: 1.0000 - val_tn: 19.0000 - val_fn: 0.0000e+00\n",
            "Epoch 5/500\n",
            "79/79 [==============================] - 1s 12ms/step - loss: 0.2750 - accuracy: 0.9620 - tp: 78.0000 - fp: 4.0000 - tn: 74.0000 - fn: 2.0000 - val_loss: 0.1351 - val_accuracy: 1.0000 - val_tp: 20.0000 - val_fp: 0.0000e+00 - val_tn: 20.0000 - val_fn: 0.0000e+00\n",
            "Epoch 6/500\n",
            "79/79 [==============================] - 1s 12ms/step - loss: 0.2482 - accuracy: 0.9620 - tp: 76.0000 - fp: 2.0000 - tn: 76.0000 - fn: 4.0000 - val_loss: 0.1781 - val_accuracy: 0.9750 - val_tp: 20.0000 - val_fp: 1.0000 - val_tn: 19.0000 - val_fn: 0.0000e+00\n",
            "Epoch 7/500\n",
            "79/79 [==============================] - 1s 12ms/step - loss: 0.2560 - accuracy: 0.9494 - tp: 76.0000 - fp: 4.0000 - tn: 74.0000 - fn: 4.0000 - val_loss: 0.1106 - val_accuracy: 1.0000 - val_tp: 20.0000 - val_fp: 0.0000e+00 - val_tn: 20.0000 - val_fn: 0.0000e+00\n",
            "Epoch 8/500\n",
            "79/79 [==============================] - 1s 12ms/step - loss: 0.2544 - accuracy: 0.9620 - tp: 78.0000 - fp: 4.0000 - tn: 74.0000 - fn: 2.0000 - val_loss: 0.1606 - val_accuracy: 0.9750 - val_tp: 20.0000 - val_fp: 1.0000 - val_tn: 19.0000 - val_fn: 0.0000e+00\n",
            "Epoch 9/500\n",
            "79/79 [==============================] - 1s 11ms/step - loss: 0.2136 - accuracy: 0.9873 - tp: 78.0000 - fp: 0.0000e+00 - tn: 78.0000 - fn: 2.0000 - val_loss: 0.1502 - val_accuracy: 0.9750 - val_tp: 20.0000 - val_fp: 1.0000 - val_tn: 19.0000 - val_fn: 0.0000e+00\n",
            "Epoch 10/500\n",
            "79/79 [==============================] - 1s 12ms/step - loss: 0.1889 - accuracy: 0.9810 - tp: 78.0000 - fp: 1.0000 - tn: 77.0000 - fn: 2.0000 - val_loss: 0.1150 - val_accuracy: 1.0000 - val_tp: 20.0000 - val_fp: 0.0000e+00 - val_tn: 20.0000 - val_fn: 0.0000e+00\n",
            "Epoch 11/500\n",
            "79/79 [==============================] - 1s 11ms/step - loss: 0.1505 - accuracy: 0.9937 - tp: 79.0000 - fp: 0.0000e+00 - tn: 78.0000 - fn: 1.0000 - val_loss: 0.1286 - val_accuracy: 0.9750 - val_tp: 20.0000 - val_fp: 1.0000 - val_tn: 19.0000 - val_fn: 0.0000e+00\n",
            "Epoch 12/500\n",
            "79/79 [==============================] - 1s 12ms/step - loss: 0.1695 - accuracy: 0.9684 - tp: 76.0000 - fp: 1.0000 - tn: 77.0000 - fn: 4.0000 - val_loss: 0.1017 - val_accuracy: 1.0000 - val_tp: 20.0000 - val_fp: 0.0000e+00 - val_tn: 20.0000 - val_fn: 0.0000e+00\n",
            "Epoch 13/500\n",
            "79/79 [==============================] - 1s 11ms/step - loss: 0.1377 - accuracy: 0.9937 - tp: 79.0000 - fp: 0.0000e+00 - tn: 78.0000 - fn: 1.0000 - val_loss: 0.1138 - val_accuracy: 0.9750 - val_tp: 20.0000 - val_fp: 1.0000 - val_tn: 19.0000 - val_fn: 0.0000e+00\n",
            "Epoch 14/500\n",
            "79/79 [==============================] - 1s 12ms/step - loss: 0.1207 - accuracy: 0.9937 - tp: 79.0000 - fp: 0.0000e+00 - tn: 78.0000 - fn: 1.0000 - val_loss: 0.1601 - val_accuracy: 0.9500 - val_tp: 19.0000 - val_fp: 1.0000 - val_tn: 19.0000 - val_fn: 1.0000\n",
            "Epoch 15/500\n",
            "79/79 [==============================] - 1s 12ms/step - loss: 0.1443 - accuracy: 0.9747 - tp: 78.0000 - fp: 2.0000 - tn: 76.0000 - fn: 2.0000 - val_loss: 0.1741 - val_accuracy: 0.9500 - val_tp: 19.0000 - val_fp: 1.0000 - val_tn: 19.0000 - val_fn: 1.0000\n",
            "Epoch 16/500\n",
            "79/79 [==============================] - 1s 12ms/step - loss: 0.1223 - accuracy: 0.9937 - tp: 80.0000 - fp: 1.0000 - tn: 77.0000 - fn: 0.0000e+00 - val_loss: 0.2678 - val_accuracy: 0.8750 - val_tp: 16.0000 - val_fp: 1.0000 - val_tn: 19.0000 - val_fn: 4.0000\n",
            "Epoch 17/500\n",
            "79/79 [==============================] - 1s 12ms/step - loss: 0.1091 - accuracy: 0.9937 - tp: 79.0000 - fp: 0.0000e+00 - tn: 78.0000 - fn: 1.0000 - val_loss: 0.1152 - val_accuracy: 0.9750 - val_tp: 20.0000 - val_fp: 1.0000 - val_tn: 19.0000 - val_fn: 0.0000e+00\n",
            "Epoch 18/500\n",
            "79/79 [==============================] - 1s 11ms/step - loss: 0.0940 - accuracy: 1.0000 - tp: 80.0000 - fp: 0.0000e+00 - tn: 78.0000 - fn: 0.0000e+00 - val_loss: 0.2143 - val_accuracy: 0.9750 - val_tp: 20.0000 - val_fp: 1.0000 - val_tn: 19.0000 - val_fn: 0.0000e+00\n",
            "Epoch 19/500\n",
            "79/79 [==============================] - 1s 12ms/step - loss: 0.0895 - accuracy: 1.0000 - tp: 80.0000 - fp: 0.0000e+00 - tn: 78.0000 - fn: 0.0000e+00 - val_loss: 0.1144 - val_accuracy: 0.9750 - val_tp: 20.0000 - val_fp: 1.0000 - val_tn: 19.0000 - val_fn: 0.0000e+00\n",
            "Epoch 20/500\n",
            "79/79 [==============================] - 1s 12ms/step - loss: 0.1148 - accuracy: 0.9937 - tp: 80.0000 - fp: 1.0000 - tn: 77.0000 - fn: 0.0000e+00 - val_loss: 0.0489 - val_accuracy: 1.0000 - val_tp: 20.0000 - val_fp: 0.0000e+00 - val_tn: 20.0000 - val_fn: 0.0000e+00\n",
            "Epoch 21/500\n",
            "79/79 [==============================] - 1s 12ms/step - loss: 0.0854 - accuracy: 0.9873 - tp: 79.0000 - fp: 1.0000 - tn: 77.0000 - fn: 1.0000 - val_loss: 0.0575 - val_accuracy: 0.9750 - val_tp: 19.0000 - val_fp: 0.0000e+00 - val_tn: 20.0000 - val_fn: 1.0000\n",
            "Epoch 22/500\n",
            "79/79 [==============================] - 1s 12ms/step - loss: 0.0580 - accuracy: 1.0000 - tp: 80.0000 - fp: 0.0000e+00 - tn: 78.0000 - fn: 0.0000e+00 - val_loss: 0.1083 - val_accuracy: 0.9750 - val_tp: 20.0000 - val_fp: 1.0000 - val_tn: 19.0000 - val_fn: 0.0000e+00\n",
            "Epoch 23/500\n",
            "79/79 [==============================] - 1s 12ms/step - loss: 0.0701 - accuracy: 0.9937 - tp: 80.0000 - fp: 1.0000 - tn: 77.0000 - fn: 0.0000e+00 - val_loss: 0.1775 - val_accuracy: 0.9500 - val_tp: 18.0000 - val_fp: 0.0000e+00 - val_tn: 20.0000 - val_fn: 2.0000\n",
            "Epoch 24/500\n",
            "79/79 [==============================] - 1s 11ms/step - loss: 0.0969 - accuracy: 0.9873 - tp: 79.0000 - fp: 1.0000 - tn: 77.0000 - fn: 1.0000 - val_loss: 0.0942 - val_accuracy: 0.9750 - val_tp: 20.0000 - val_fp: 1.0000 - val_tn: 19.0000 - val_fn: 0.0000e+00\n",
            "Epoch 25/500\n",
            "79/79 [==============================] - 1s 12ms/step - loss: 0.0876 - accuracy: 0.9873 - tp: 79.0000 - fp: 1.0000 - tn: 77.0000 - fn: 1.0000 - val_loss: 0.1569 - val_accuracy: 0.9750 - val_tp: 20.0000 - val_fp: 1.0000 - val_tn: 19.0000 - val_fn: 0.0000e+00\n",
            "Epoch 26/500\n",
            "79/79 [==============================] - 1s 11ms/step - loss: 0.0549 - accuracy: 1.0000 - tp: 80.0000 - fp: 0.0000e+00 - tn: 78.0000 - fn: 0.0000e+00 - val_loss: 0.1470 - val_accuracy: 0.9750 - val_tp: 20.0000 - val_fp: 1.0000 - val_tn: 19.0000 - val_fn: 0.0000e+00\n",
            "Epoch 27/500\n",
            "79/79 [==============================] - 1s 11ms/step - loss: 0.0437 - accuracy: 1.0000 - tp: 80.0000 - fp: 0.0000e+00 - tn: 78.0000 - fn: 0.0000e+00 - val_loss: 0.0713 - val_accuracy: 0.9750 - val_tp: 20.0000 - val_fp: 1.0000 - val_tn: 19.0000 - val_fn: 0.0000e+00\n",
            "Epoch 28/500\n",
            "79/79 [==============================] - 1s 12ms/step - loss: 0.0465 - accuracy: 1.0000 - tp: 80.0000 - fp: 0.0000e+00 - tn: 78.0000 - fn: 0.0000e+00 - val_loss: 0.0477 - val_accuracy: 1.0000 - val_tp: 20.0000 - val_fp: 0.0000e+00 - val_tn: 20.0000 - val_fn: 0.0000e+00\n",
            "Epoch 29/500\n",
            "79/79 [==============================] - 1s 12ms/step - loss: 0.0586 - accuracy: 0.9873 - tp: 79.0000 - fp: 1.0000 - tn: 77.0000 - fn: 1.0000 - val_loss: 0.1699 - val_accuracy: 0.9750 - val_tp: 20.0000 - val_fp: 1.0000 - val_tn: 19.0000 - val_fn: 0.0000e+00\n",
            "Epoch 30/500\n",
            "79/79 [==============================] - 1s 12ms/step - loss: 0.0397 - accuracy: 1.0000 - tp: 80.0000 - fp: 0.0000e+00 - tn: 78.0000 - fn: 0.0000e+00 - val_loss: 0.0894 - val_accuracy: 0.9750 - val_tp: 20.0000 - val_fp: 1.0000 - val_tn: 19.0000 - val_fn: 0.0000e+00\n",
            "Epoch 31/500\n",
            "79/79 [==============================] - 1s 12ms/step - loss: 0.0320 - accuracy: 1.0000 - tp: 80.0000 - fp: 0.0000e+00 - tn: 78.0000 - fn: 0.0000e+00 - val_loss: 0.0531 - val_accuracy: 0.9750 - val_tp: 20.0000 - val_fp: 1.0000 - val_tn: 19.0000 - val_fn: 0.0000e+00\n",
            "Epoch 32/500\n",
            "79/79 [==============================] - 1s 12ms/step - loss: 0.0311 - accuracy: 1.0000 - tp: 80.0000 - fp: 0.0000e+00 - tn: 78.0000 - fn: 0.0000e+00 - val_loss: 0.0299 - val_accuracy: 1.0000 - val_tp: 20.0000 - val_fp: 0.0000e+00 - val_tn: 20.0000 - val_fn: 0.0000e+00\n",
            "Epoch 33/500\n",
            "79/79 [==============================] - 1s 12ms/step - loss: 0.0341 - accuracy: 1.0000 - tp: 80.0000 - fp: 0.0000e+00 - tn: 78.0000 - fn: 0.0000e+00 - val_loss: 0.0415 - val_accuracy: 0.9750 - val_tp: 20.0000 - val_fp: 1.0000 - val_tn: 19.0000 - val_fn: 0.0000e+00\n",
            "Epoch 34/500\n",
            "79/79 [==============================] - 1s 12ms/step - loss: 0.0297 - accuracy: 1.0000 - tp: 80.0000 - fp: 0.0000e+00 - tn: 78.0000 - fn: 0.0000e+00 - val_loss: 0.0341 - val_accuracy: 1.0000 - val_tp: 20.0000 - val_fp: 0.0000e+00 - val_tn: 20.0000 - val_fn: 0.0000e+00\n",
            "Epoch 35/500\n",
            "79/79 [==============================] - 1s 12ms/step - loss: 0.0219 - accuracy: 1.0000 - tp: 80.0000 - fp: 0.0000e+00 - tn: 78.0000 - fn: 0.0000e+00 - val_loss: 0.0270 - val_accuracy: 1.0000 - val_tp: 20.0000 - val_fp: 0.0000e+00 - val_tn: 20.0000 - val_fn: 0.0000e+00\n",
            "Epoch 36/500\n",
            "79/79 [==============================] - 1s 12ms/step - loss: 0.0204 - accuracy: 1.0000 - tp: 80.0000 - fp: 0.0000e+00 - tn: 78.0000 - fn: 0.0000e+00 - val_loss: 0.0494 - val_accuracy: 0.9750 - val_tp: 20.0000 - val_fp: 1.0000 - val_tn: 19.0000 - val_fn: 0.0000e+00\n",
            "Epoch 37/500\n",
            "79/79 [==============================] - 1s 12ms/step - loss: 0.0217 - accuracy: 1.0000 - tp: 80.0000 - fp: 0.0000e+00 - tn: 78.0000 - fn: 0.0000e+00 - val_loss: 0.0168 - val_accuracy: 1.0000 - val_tp: 20.0000 - val_fp: 0.0000e+00 - val_tn: 20.0000 - val_fn: 0.0000e+00\n",
            "Epoch 38/500\n",
            "79/79 [==============================] - 1s 12ms/step - loss: 0.0204 - accuracy: 1.0000 - tp: 80.0000 - fp: 0.0000e+00 - tn: 78.0000 - fn: 0.0000e+00 - val_loss: 0.0429 - val_accuracy: 0.9750 - val_tp: 20.0000 - val_fp: 1.0000 - val_tn: 19.0000 - val_fn: 0.0000e+00\n",
            "Epoch 39/500\n",
            "79/79 [==============================] - 1s 12ms/step - loss: 0.0164 - accuracy: 1.0000 - tp: 80.0000 - fp: 0.0000e+00 - tn: 78.0000 - fn: 0.0000e+00 - val_loss: 0.0270 - val_accuracy: 1.0000 - val_tp: 20.0000 - val_fp: 0.0000e+00 - val_tn: 20.0000 - val_fn: 0.0000e+00\n",
            "Epoch 40/500\n",
            "79/79 [==============================] - 1s 11ms/step - loss: 0.0320 - accuracy: 0.9937 - tp: 80.0000 - fp: 1.0000 - tn: 77.0000 - fn: 0.0000e+00 - val_loss: 0.0282 - val_accuracy: 1.0000 - val_tp: 20.0000 - val_fp: 0.0000e+00 - val_tn: 20.0000 - val_fn: 0.0000e+00\n",
            "Epoch 41/500\n",
            "79/79 [==============================] - 1s 12ms/step - loss: 0.0369 - accuracy: 1.0000 - tp: 80.0000 - fp: 0.0000e+00 - tn: 78.0000 - fn: 0.0000e+00 - val_loss: 0.0416 - val_accuracy: 0.9750 - val_tp: 19.0000 - val_fp: 0.0000e+00 - val_tn: 20.0000 - val_fn: 1.0000\n",
            "Epoch 42/500\n",
            "79/79 [==============================] - 1s 12ms/step - loss: 0.0213 - accuracy: 1.0000 - tp: 80.0000 - fp: 0.0000e+00 - tn: 78.0000 - fn: 0.0000e+00 - val_loss: 0.0185 - val_accuracy: 1.0000 - val_tp: 20.0000 - val_fp: 0.0000e+00 - val_tn: 20.0000 - val_fn: 0.0000e+00\n",
            "Epoch 43/500\n",
            "79/79 [==============================] - 1s 12ms/step - loss: 0.0168 - accuracy: 1.0000 - tp: 80.0000 - fp: 0.0000e+00 - tn: 78.0000 - fn: 0.0000e+00 - val_loss: 0.0301 - val_accuracy: 1.0000 - val_tp: 20.0000 - val_fp: 0.0000e+00 - val_tn: 20.0000 - val_fn: 0.0000e+00\n",
            "Epoch 44/500\n",
            "79/79 [==============================] - 1s 12ms/step - loss: 0.0148 - accuracy: 1.0000 - tp: 80.0000 - fp: 0.0000e+00 - tn: 78.0000 - fn: 0.0000e+00 - val_loss: 0.0135 - val_accuracy: 1.0000 - val_tp: 20.0000 - val_fp: 0.0000e+00 - val_tn: 20.0000 - val_fn: 0.0000e+00\n",
            "Epoch 45/500\n",
            "79/79 [==============================] - 1s 12ms/step - loss: 0.0137 - accuracy: 1.0000 - tp: 80.0000 - fp: 0.0000e+00 - tn: 78.0000 - fn: 0.0000e+00 - val_loss: 0.0147 - val_accuracy: 1.0000 - val_tp: 20.0000 - val_fp: 0.0000e+00 - val_tn: 20.0000 - val_fn: 0.0000e+00\n",
            "Epoch 46/500\n",
            "79/79 [==============================] - 1s 12ms/step - loss: 0.0113 - accuracy: 1.0000 - tp: 80.0000 - fp: 0.0000e+00 - tn: 78.0000 - fn: 0.0000e+00 - val_loss: 0.0139 - val_accuracy: 1.0000 - val_tp: 20.0000 - val_fp: 0.0000e+00 - val_tn: 20.0000 - val_fn: 0.0000e+00\n",
            "Epoch 47/500\n",
            "79/79 [==============================] - 1s 12ms/step - loss: 0.0116 - accuracy: 1.0000 - tp: 80.0000 - fp: 0.0000e+00 - tn: 78.0000 - fn: 0.0000e+00 - val_loss: 0.1389 - val_accuracy: 0.9750 - val_tp: 20.0000 - val_fp: 1.0000 - val_tn: 19.0000 - val_fn: 0.0000e+00\n",
            "Epoch 48/500\n",
            "79/79 [==============================] - 1s 12ms/step - loss: 0.0101 - accuracy: 1.0000 - tp: 80.0000 - fp: 0.0000e+00 - tn: 78.0000 - fn: 0.0000e+00 - val_loss: 0.1073 - val_accuracy: 0.9750 - val_tp: 20.0000 - val_fp: 1.0000 - val_tn: 19.0000 - val_fn: 0.0000e+00\n",
            "Epoch 49/500\n",
            "79/79 [==============================] - 1s 12ms/step - loss: 0.0132 - accuracy: 1.0000 - tp: 80.0000 - fp: 0.0000e+00 - tn: 78.0000 - fn: 0.0000e+00 - val_loss: 0.0165 - val_accuracy: 1.0000 - val_tp: 20.0000 - val_fp: 0.0000e+00 - val_tn: 20.0000 - val_fn: 0.0000e+00\n",
            "Epoch 50/500\n",
            "79/79 [==============================] - 1s 12ms/step - loss: 0.0098 - accuracy: 1.0000 - tp: 80.0000 - fp: 0.0000e+00 - tn: 78.0000 - fn: 0.0000e+00 - val_loss: 0.0123 - val_accuracy: 1.0000 - val_tp: 20.0000 - val_fp: 0.0000e+00 - val_tn: 20.0000 - val_fn: 0.0000e+00\n",
            "Epoch 51/500\n",
            "79/79 [==============================] - 1s 12ms/step - loss: 0.0095 - accuracy: 1.0000 - tp: 80.0000 - fp: 0.0000e+00 - tn: 78.0000 - fn: 0.0000e+00 - val_loss: 0.0134 - val_accuracy: 1.0000 - val_tp: 20.0000 - val_fp: 0.0000e+00 - val_tn: 20.0000 - val_fn: 0.0000e+00\n",
            "Epoch 52/500\n",
            "79/79 [==============================] - 1s 12ms/step - loss: 0.0093 - accuracy: 1.0000 - tp: 80.0000 - fp: 0.0000e+00 - tn: 78.0000 - fn: 0.0000e+00 - val_loss: 0.0129 - val_accuracy: 1.0000 - val_tp: 20.0000 - val_fp: 0.0000e+00 - val_tn: 20.0000 - val_fn: 0.0000e+00\n",
            "Epoch 53/500\n",
            "79/79 [==============================] - 1s 12ms/step - loss: 0.0072 - accuracy: 1.0000 - tp: 80.0000 - fp: 0.0000e+00 - tn: 78.0000 - fn: 0.0000e+00 - val_loss: 0.0087 - val_accuracy: 1.0000 - val_tp: 20.0000 - val_fp: 0.0000e+00 - val_tn: 20.0000 - val_fn: 0.0000e+00\n",
            "Epoch 54/500\n",
            "79/79 [==============================] - 1s 12ms/step - loss: 0.0069 - accuracy: 1.0000 - tp: 80.0000 - fp: 0.0000e+00 - tn: 78.0000 - fn: 0.0000e+00 - val_loss: 0.0084 - val_accuracy: 1.0000 - val_tp: 20.0000 - val_fp: 0.0000e+00 - val_tn: 20.0000 - val_fn: 0.0000e+00\n",
            "Epoch 55/500\n",
            "79/79 [==============================] - 1s 12ms/step - loss: 0.0079 - accuracy: 1.0000 - tp: 80.0000 - fp: 0.0000e+00 - tn: 78.0000 - fn: 0.0000e+00 - val_loss: 0.0108 - val_accuracy: 1.0000 - val_tp: 20.0000 - val_fp: 0.0000e+00 - val_tn: 20.0000 - val_fn: 0.0000e+00\n",
            "Epoch 56/500\n",
            "79/79 [==============================] - 1s 12ms/step - loss: 0.0121 - accuracy: 1.0000 - tp: 80.0000 - fp: 0.0000e+00 - tn: 78.0000 - fn: 0.0000e+00 - val_loss: 0.0157 - val_accuracy: 1.0000 - val_tp: 20.0000 - val_fp: 0.0000e+00 - val_tn: 20.0000 - val_fn: 0.0000e+00\n",
            "Epoch 57/500\n",
            "79/79 [==============================] - 1s 12ms/step - loss: 0.0059 - accuracy: 1.0000 - tp: 80.0000 - fp: 0.0000e+00 - tn: 78.0000 - fn: 0.0000e+00 - val_loss: 0.0080 - val_accuracy: 1.0000 - val_tp: 20.0000 - val_fp: 0.0000e+00 - val_tn: 20.0000 - val_fn: 0.0000e+00\n",
            "Epoch 58/500\n",
            "79/79 [==============================] - 1s 12ms/step - loss: 0.0063 - accuracy: 1.0000 - tp: 80.0000 - fp: 0.0000e+00 - tn: 78.0000 - fn: 0.0000e+00 - val_loss: 0.0109 - val_accuracy: 1.0000 - val_tp: 20.0000 - val_fp: 0.0000e+00 - val_tn: 20.0000 - val_fn: 0.0000e+00\n",
            "Epoch 59/500\n",
            "79/79 [==============================] - 1s 12ms/step - loss: 0.0065 - accuracy: 1.0000 - tp: 80.0000 - fp: 0.0000e+00 - tn: 78.0000 - fn: 0.0000e+00 - val_loss: 0.0209 - val_accuracy: 1.0000 - val_tp: 20.0000 - val_fp: 0.0000e+00 - val_tn: 20.0000 - val_fn: 0.0000e+00\n",
            "Epoch 60/500\n",
            "79/79 [==============================] - 1s 12ms/step - loss: 0.0052 - accuracy: 1.0000 - tp: 80.0000 - fp: 0.0000e+00 - tn: 78.0000 - fn: 0.0000e+00 - val_loss: 0.0733 - val_accuracy: 0.9750 - val_tp: 20.0000 - val_fp: 1.0000 - val_tn: 19.0000 - val_fn: 0.0000e+00\n",
            "Epoch 61/500\n",
            "79/79 [==============================] - 1s 12ms/step - loss: 0.0037 - accuracy: 1.0000 - tp: 80.0000 - fp: 0.0000e+00 - tn: 78.0000 - fn: 0.0000e+00 - val_loss: 0.0224 - val_accuracy: 1.0000 - val_tp: 20.0000 - val_fp: 0.0000e+00 - val_tn: 20.0000 - val_fn: 0.0000e+00\n",
            "Epoch 62/500\n",
            "79/79 [==============================] - 1s 12ms/step - loss: 0.0048 - accuracy: 1.0000 - tp: 80.0000 - fp: 0.0000e+00 - tn: 78.0000 - fn: 0.0000e+00 - val_loss: 0.0132 - val_accuracy: 1.0000 - val_tp: 20.0000 - val_fp: 0.0000e+00 - val_tn: 20.0000 - val_fn: 0.0000e+00\n",
            "Epoch 63/500\n",
            "79/79 [==============================] - 1s 13ms/step - loss: 0.0040 - accuracy: 1.0000 - tp: 80.0000 - fp: 0.0000e+00 - tn: 78.0000 - fn: 0.0000e+00 - val_loss: 0.0386 - val_accuracy: 0.9750 - val_tp: 20.0000 - val_fp: 1.0000 - val_tn: 19.0000 - val_fn: 0.0000e+00\n",
            "Epoch 64/500\n",
            "79/79 [==============================] - 1s 12ms/step - loss: 0.0050 - accuracy: 1.0000 - tp: 80.0000 - fp: 0.0000e+00 - tn: 78.0000 - fn: 0.0000e+00 - val_loss: 0.2158 - val_accuracy: 0.9750 - val_tp: 20.0000 - val_fp: 1.0000 - val_tn: 19.0000 - val_fn: 0.0000e+00\n",
            "Epoch 65/500\n",
            "79/79 [==============================] - 1s 12ms/step - loss: 0.0039 - accuracy: 1.0000 - tp: 80.0000 - fp: 0.0000e+00 - tn: 78.0000 - fn: 0.0000e+00 - val_loss: 0.0080 - val_accuracy: 1.0000 - val_tp: 20.0000 - val_fp: 0.0000e+00 - val_tn: 20.0000 - val_fn: 0.0000e+00\n",
            "Epoch 66/500\n",
            "79/79 [==============================] - 1s 12ms/step - loss: 0.0036 - accuracy: 1.0000 - tp: 80.0000 - fp: 0.0000e+00 - tn: 78.0000 - fn: 0.0000e+00 - val_loss: 0.0104 - val_accuracy: 1.0000 - val_tp: 20.0000 - val_fp: 0.0000e+00 - val_tn: 20.0000 - val_fn: 0.0000e+00\n",
            "Epoch 67/500\n",
            "79/79 [==============================] - 1s 12ms/step - loss: 0.0031 - accuracy: 1.0000 - tp: 80.0000 - fp: 0.0000e+00 - tn: 78.0000 - fn: 0.0000e+00 - val_loss: 0.0116 - val_accuracy: 1.0000 - val_tp: 20.0000 - val_fp: 0.0000e+00 - val_tn: 20.0000 - val_fn: 0.0000e+00\n",
            "Epoch 68/500\n",
            "79/79 [==============================] - 1s 15ms/step - loss: 0.0028 - accuracy: 1.0000 - tp: 80.0000 - fp: 0.0000e+00 - tn: 78.0000 - fn: 0.0000e+00 - val_loss: 0.0239 - val_accuracy: 1.0000 - val_tp: 20.0000 - val_fp: 0.0000e+00 - val_tn: 20.0000 - val_fn: 0.0000e+00\n",
            "Epoch 69/500\n",
            "79/79 [==============================] - 1s 13ms/step - loss: 0.0028 - accuracy: 1.0000 - tp: 80.0000 - fp: 0.0000e+00 - tn: 78.0000 - fn: 0.0000e+00 - val_loss: 0.0089 - val_accuracy: 1.0000 - val_tp: 20.0000 - val_fp: 0.0000e+00 - val_tn: 20.0000 - val_fn: 0.0000e+00\n",
            "Epoch 70/500\n",
            "79/79 [==============================] - 1s 12ms/step - loss: 0.0572 - accuracy: 0.9810 - tp: 78.0000 - fp: 1.0000 - tn: 77.0000 - fn: 2.0000 - val_loss: 0.3077 - val_accuracy: 0.9500 - val_tp: 20.0000 - val_fp: 2.0000 - val_tn: 18.0000 - val_fn: 0.0000e+00\n",
            "Epoch 71/500\n",
            "79/79 [==============================] - 1s 12ms/step - loss: 0.1588 - accuracy: 0.9430 - tp: 77.0000 - fp: 6.0000 - tn: 72.0000 - fn: 3.0000 - val_loss: 0.5673 - val_accuracy: 0.9250 - val_tp: 20.0000 - val_fp: 3.0000 - val_tn: 17.0000 - val_fn: 0.0000e+00\n",
            "Epoch 72/500\n",
            "79/79 [==============================] - 1s 11ms/step - loss: 0.0260 - accuracy: 1.0000 - tp: 80.0000 - fp: 0.0000e+00 - tn: 78.0000 - fn: 0.0000e+00 - val_loss: 0.1447 - val_accuracy: 0.9750 - val_tp: 20.0000 - val_fp: 1.0000 - val_tn: 19.0000 - val_fn: 0.0000e+00\n",
            "Epoch 73/500\n",
            "79/79 [==============================] - 1s 12ms/step - loss: 0.0175 - accuracy: 1.0000 - tp: 80.0000 - fp: 0.0000e+00 - tn: 78.0000 - fn: 0.0000e+00 - val_loss: 0.0197 - val_accuracy: 1.0000 - val_tp: 20.0000 - val_fp: 0.0000e+00 - val_tn: 20.0000 - val_fn: 0.0000e+00\n",
            "Epoch 74/500\n",
            "79/79 [==============================] - 1s 11ms/step - loss: 0.0151 - accuracy: 1.0000 - tp: 80.0000 - fp: 0.0000e+00 - tn: 78.0000 - fn: 0.0000e+00 - val_loss: 0.0567 - val_accuracy: 0.9750 - val_tp: 20.0000 - val_fp: 1.0000 - val_tn: 19.0000 - val_fn: 0.0000e+00\n",
            "Epoch 75/500\n",
            "79/79 [==============================] - 1s 12ms/step - loss: 0.0084 - accuracy: 1.0000 - tp: 80.0000 - fp: 0.0000e+00 - tn: 78.0000 - fn: 0.0000e+00 - val_loss: 0.0412 - val_accuracy: 0.9750 - val_tp: 20.0000 - val_fp: 1.0000 - val_tn: 19.0000 - val_fn: 0.0000e+00\n",
            "Epoch 76/500\n",
            "79/79 [==============================] - 1s 11ms/step - loss: 0.0092 - accuracy: 1.0000 - tp: 80.0000 - fp: 0.0000e+00 - tn: 78.0000 - fn: 0.0000e+00 - val_loss: 0.0187 - val_accuracy: 1.0000 - val_tp: 20.0000 - val_fp: 0.0000e+00 - val_tn: 20.0000 - val_fn: 0.0000e+00\n",
            "Epoch 77/500\n",
            "79/79 [==============================] - 1s 12ms/step - loss: 0.0054 - accuracy: 1.0000 - tp: 80.0000 - fp: 0.0000e+00 - tn: 78.0000 - fn: 0.0000e+00 - val_loss: 0.0233 - val_accuracy: 1.0000 - val_tp: 20.0000 - val_fp: 0.0000e+00 - val_tn: 20.0000 - val_fn: 0.0000e+00\n",
            "Epoch 78/500\n",
            "79/79 [==============================] - 1s 12ms/step - loss: 0.0060 - accuracy: 1.0000 - tp: 80.0000 - fp: 0.0000e+00 - tn: 78.0000 - fn: 0.0000e+00 - val_loss: 0.0372 - val_accuracy: 0.9750 - val_tp: 20.0000 - val_fp: 1.0000 - val_tn: 19.0000 - val_fn: 0.0000e+00\n",
            "Epoch 79/500\n",
            "79/79 [==============================] - 1s 12ms/step - loss: 0.0053 - accuracy: 1.0000 - tp: 80.0000 - fp: 0.0000e+00 - tn: 78.0000 - fn: 0.0000e+00 - val_loss: 0.0686 - val_accuracy: 0.9750 - val_tp: 20.0000 - val_fp: 1.0000 - val_tn: 19.0000 - val_fn: 0.0000e+00\n",
            "Epoch 80/500\n",
            "79/79 [==============================] - 1s 12ms/step - loss: 0.0038 - accuracy: 1.0000 - tp: 80.0000 - fp: 0.0000e+00 - tn: 78.0000 - fn: 0.0000e+00 - val_loss: 0.0790 - val_accuracy: 0.9750 - val_tp: 20.0000 - val_fp: 1.0000 - val_tn: 19.0000 - val_fn: 0.0000e+00\n",
            "Epoch 81/500\n",
            "79/79 [==============================] - 1s 12ms/step - loss: 0.0038 - accuracy: 1.0000 - tp: 80.0000 - fp: 0.0000e+00 - tn: 78.0000 - fn: 0.0000e+00 - val_loss: 0.0555 - val_accuracy: 0.9750 - val_tp: 20.0000 - val_fp: 1.0000 - val_tn: 19.0000 - val_fn: 0.0000e+00\n",
            "Epoch 82/500\n",
            "79/79 [==============================] - 1s 12ms/step - loss: 0.0043 - accuracy: 1.0000 - tp: 80.0000 - fp: 0.0000e+00 - tn: 78.0000 - fn: 0.0000e+00 - val_loss: 0.0385 - val_accuracy: 0.9750 - val_tp: 20.0000 - val_fp: 1.0000 - val_tn: 19.0000 - val_fn: 0.0000e+00\n",
            "Epoch 83/500\n",
            "79/79 [==============================] - 1s 12ms/step - loss: 0.0032 - accuracy: 1.0000 - tp: 80.0000 - fp: 0.0000e+00 - tn: 78.0000 - fn: 0.0000e+00 - val_loss: 0.0320 - val_accuracy: 0.9750 - val_tp: 20.0000 - val_fp: 1.0000 - val_tn: 19.0000 - val_fn: 0.0000e+00\n",
            "Epoch 84/500\n",
            "79/79 [==============================] - 1s 13ms/step - loss: 0.0041 - accuracy: 1.0000 - tp: 80.0000 - fp: 0.0000e+00 - tn: 78.0000 - fn: 0.0000e+00 - val_loss: 0.0236 - val_accuracy: 1.0000 - val_tp: 20.0000 - val_fp: 0.0000e+00 - val_tn: 20.0000 - val_fn: 0.0000e+00\n",
            "Epoch 85/500\n",
            "79/79 [==============================] - 1s 14ms/step - loss: 0.0042 - accuracy: 1.0000 - tp: 80.0000 - fp: 0.0000e+00 - tn: 78.0000 - fn: 0.0000e+00 - val_loss: 0.0663 - val_accuracy: 0.9750 - val_tp: 20.0000 - val_fp: 1.0000 - val_tn: 19.0000 - val_fn: 0.0000e+00\n",
            "Epoch 86/500\n",
            "79/79 [==============================] - 1s 13ms/step - loss: 0.0032 - accuracy: 1.0000 - tp: 80.0000 - fp: 0.0000e+00 - tn: 78.0000 - fn: 0.0000e+00 - val_loss: 0.0962 - val_accuracy: 0.9750 - val_tp: 20.0000 - val_fp: 1.0000 - val_tn: 19.0000 - val_fn: 0.0000e+00\n",
            "Epoch 87/500\n",
            "79/79 [==============================] - 1s 13ms/step - loss: 0.0026 - accuracy: 1.0000 - tp: 80.0000 - fp: 0.0000e+00 - tn: 78.0000 - fn: 0.0000e+00 - val_loss: 0.0904 - val_accuracy: 0.9750 - val_tp: 20.0000 - val_fp: 1.0000 - val_tn: 19.0000 - val_fn: 0.0000e+00\n",
            "Epoch 88/500\n",
            "79/79 [==============================] - 1s 14ms/step - loss: 0.0034 - accuracy: 1.0000 - tp: 80.0000 - fp: 0.0000e+00 - tn: 78.0000 - fn: 0.0000e+00 - val_loss: 0.0281 - val_accuracy: 0.9750 - val_tp: 20.0000 - val_fp: 1.0000 - val_tn: 19.0000 - val_fn: 0.0000e+00\n",
            "Epoch 89/500\n",
            "79/79 [==============================] - 1s 14ms/step - loss: 0.0032 - accuracy: 1.0000 - tp: 80.0000 - fp: 0.0000e+00 - tn: 78.0000 - fn: 0.0000e+00 - val_loss: 0.0156 - val_accuracy: 1.0000 - val_tp: 20.0000 - val_fp: 0.0000e+00 - val_tn: 20.0000 - val_fn: 0.0000e+00\n",
            "Epoch 90/500\n",
            "79/79 [==============================] - 1s 12ms/step - loss: 0.0029 - accuracy: 1.0000 - tp: 80.0000 - fp: 0.0000e+00 - tn: 78.0000 - fn: 0.0000e+00 - val_loss: 0.0113 - val_accuracy: 1.0000 - val_tp: 20.0000 - val_fp: 0.0000e+00 - val_tn: 20.0000 - val_fn: 0.0000e+00\n",
            "Epoch 91/500\n",
            "79/79 [==============================] - 1s 12ms/step - loss: 0.0029 - accuracy: 1.0000 - tp: 80.0000 - fp: 0.0000e+00 - tn: 78.0000 - fn: 0.0000e+00 - val_loss: 0.0195 - val_accuracy: 1.0000 - val_tp: 20.0000 - val_fp: 0.0000e+00 - val_tn: 20.0000 - val_fn: 0.0000e+00\n",
            "Epoch 92/500\n",
            "79/79 [==============================] - 1s 13ms/step - loss: 0.0024 - accuracy: 1.0000 - tp: 80.0000 - fp: 0.0000e+00 - tn: 78.0000 - fn: 0.0000e+00 - val_loss: 0.0127 - val_accuracy: 1.0000 - val_tp: 20.0000 - val_fp: 0.0000e+00 - val_tn: 20.0000 - val_fn: 0.0000e+00\n",
            "Epoch 93/500\n",
            "79/79 [==============================] - 1s 13ms/step - loss: 0.0023 - accuracy: 1.0000 - tp: 80.0000 - fp: 0.0000e+00 - tn: 78.0000 - fn: 0.0000e+00 - val_loss: 0.0166 - val_accuracy: 1.0000 - val_tp: 20.0000 - val_fp: 0.0000e+00 - val_tn: 20.0000 - val_fn: 0.0000e+00\n",
            "Epoch 94/500\n",
            "79/79 [==============================] - 1s 14ms/step - loss: 0.0030 - accuracy: 1.0000 - tp: 80.0000 - fp: 0.0000e+00 - tn: 78.0000 - fn: 0.0000e+00 - val_loss: 0.0123 - val_accuracy: 1.0000 - val_tp: 20.0000 - val_fp: 0.0000e+00 - val_tn: 20.0000 - val_fn: 0.0000e+00\n",
            "Epoch 95/500\n",
            "79/79 [==============================] - 1s 14ms/step - loss: 0.0025 - accuracy: 1.0000 - tp: 80.0000 - fp: 0.0000e+00 - tn: 78.0000 - fn: 0.0000e+00 - val_loss: 0.0167 - val_accuracy: 1.0000 - val_tp: 20.0000 - val_fp: 0.0000e+00 - val_tn: 20.0000 - val_fn: 0.0000e+00\n",
            "Epoch 96/500\n",
            "79/79 [==============================] - 1s 15ms/step - loss: 0.0025 - accuracy: 1.0000 - tp: 80.0000 - fp: 0.0000e+00 - tn: 78.0000 - fn: 0.0000e+00 - val_loss: 0.0192 - val_accuracy: 1.0000 - val_tp: 20.0000 - val_fp: 0.0000e+00 - val_tn: 20.0000 - val_fn: 0.0000e+00\n",
            "Epoch 97/500\n",
            "79/79 [==============================] - 1s 14ms/step - loss: 0.0022 - accuracy: 1.0000 - tp: 80.0000 - fp: 0.0000e+00 - tn: 78.0000 - fn: 0.0000e+00 - val_loss: 0.0182 - val_accuracy: 1.0000 - val_tp: 20.0000 - val_fp: 0.0000e+00 - val_tn: 20.0000 - val_fn: 0.0000e+00\n",
            "Epoch 98/500\n",
            "79/79 [==============================] - 1s 13ms/step - loss: 0.0023 - accuracy: 1.0000 - tp: 80.0000 - fp: 0.0000e+00 - tn: 78.0000 - fn: 0.0000e+00 - val_loss: 0.0154 - val_accuracy: 1.0000 - val_tp: 20.0000 - val_fp: 0.0000e+00 - val_tn: 20.0000 - val_fn: 0.0000e+00\n",
            "Epoch 99/500\n",
            "79/79 [==============================] - 1s 15ms/step - loss: 0.0023 - accuracy: 1.0000 - tp: 80.0000 - fp: 0.0000e+00 - tn: 78.0000 - fn: 0.0000e+00 - val_loss: 0.0193 - val_accuracy: 1.0000 - val_tp: 20.0000 - val_fp: 0.0000e+00 - val_tn: 20.0000 - val_fn: 0.0000e+00\n",
            "Epoch 100/500\n",
            "79/79 [==============================] - 1s 14ms/step - loss: 0.0019 - accuracy: 1.0000 - tp: 80.0000 - fp: 0.0000e+00 - tn: 78.0000 - fn: 0.0000e+00 - val_loss: 0.0173 - val_accuracy: 1.0000 - val_tp: 20.0000 - val_fp: 0.0000e+00 - val_tn: 20.0000 - val_fn: 0.0000e+00\n",
            "Epoch 101/500\n",
            "79/79 [==============================] - 1s 15ms/step - loss: 0.0022 - accuracy: 1.0000 - tp: 80.0000 - fp: 0.0000e+00 - tn: 78.0000 - fn: 0.0000e+00 - val_loss: 0.0293 - val_accuracy: 0.9750 - val_tp: 20.0000 - val_fp: 1.0000 - val_tn: 19.0000 - val_fn: 0.0000e+00\n",
            "Epoch 102/500\n",
            "79/79 [==============================] - 1s 13ms/step - loss: 0.0021 - accuracy: 1.0000 - tp: 80.0000 - fp: 0.0000e+00 - tn: 78.0000 - fn: 0.0000e+00 - val_loss: 0.0134 - val_accuracy: 1.0000 - val_tp: 20.0000 - val_fp: 0.0000e+00 - val_tn: 20.0000 - val_fn: 0.0000e+00\n",
            "Epoch 103/500\n",
            "79/79 [==============================] - 1s 12ms/step - loss: 0.0017 - accuracy: 1.0000 - tp: 80.0000 - fp: 0.0000e+00 - tn: 78.0000 - fn: 0.0000e+00 - val_loss: 0.0202 - val_accuracy: 1.0000 - val_tp: 20.0000 - val_fp: 0.0000e+00 - val_tn: 20.0000 - val_fn: 0.0000e+00\n",
            "Epoch 104/500\n",
            "79/79 [==============================] - 1s 12ms/step - loss: 0.0017 - accuracy: 1.0000 - tp: 80.0000 - fp: 0.0000e+00 - tn: 78.0000 - fn: 0.0000e+00 - val_loss: 0.0166 - val_accuracy: 1.0000 - val_tp: 20.0000 - val_fp: 0.0000e+00 - val_tn: 20.0000 - val_fn: 0.0000e+00\n",
            "Epoch 105/500\n",
            "79/79 [==============================] - 1s 12ms/step - loss: 0.0019 - accuracy: 1.0000 - tp: 80.0000 - fp: 0.0000e+00 - tn: 78.0000 - fn: 0.0000e+00 - val_loss: 0.0147 - val_accuracy: 1.0000 - val_tp: 20.0000 - val_fp: 0.0000e+00 - val_tn: 20.0000 - val_fn: 0.0000e+00\n",
            "Epoch 106/500\n",
            "79/79 [==============================] - 1s 13ms/step - loss: 0.0020 - accuracy: 1.0000 - tp: 80.0000 - fp: 0.0000e+00 - tn: 78.0000 - fn: 0.0000e+00 - val_loss: 0.0090 - val_accuracy: 1.0000 - val_tp: 20.0000 - val_fp: 0.0000e+00 - val_tn: 20.0000 - val_fn: 0.0000e+00\n",
            "Epoch 107/500\n",
            "79/79 [==============================] - 1s 13ms/step - loss: 0.0020 - accuracy: 1.0000 - tp: 80.0000 - fp: 0.0000e+00 - tn: 78.0000 - fn: 0.0000e+00 - val_loss: 0.0131 - val_accuracy: 1.0000 - val_tp: 20.0000 - val_fp: 0.0000e+00 - val_tn: 20.0000 - val_fn: 0.0000e+00\n",
            "Epoch 00107: early stopping\n"
          ],
          "name": "stdout"
        }
      ]
    },
    {
      "cell_type": "code",
      "metadata": {
        "id": "GAHhvtx0ACn5"
      },
      "source": [
        "for i in range(len(Y_test)):\n",
        "\tprint(\"X=%s, Predicted=%s\" % (Y_test[i], y_pred[i]))\n"
      ],
      "execution_count": null,
      "outputs": []
    },
    {
      "cell_type": "code",
      "metadata": {
        "id": "9c0Ch7-XnKs_",
        "colab": {
          "base_uri": "https://localhost:8080/"
        },
        "outputId": "6dffe0d0-9928-40a9-e57f-6014ca1c73b7"
      },
      "source": [
        "model = keras.models.load_model(\"Subject10_Model.h5\")\n",
        "\n",
        "test_loss, test_acc,fp,tp,tn,fn = model.evaluate(X_test, Y_test)\n",
        "\n",
        "print(\"Test accuracy\", test_acc)\n",
        "print(\"Test loss\", test_loss)\n",
        "print(\"FP\",fp)\n",
        "print(\"TP\",tp)\n",
        "print(\"TN\",tn)\n",
        "print(\"FN\",fn)"
      ],
      "execution_count": null,
      "outputs": [
        {
          "output_type": "stream",
          "text": [
            "2/2 [==============================] - 0s 9ms/step - loss: 0.0092 - accuracy: 1.0000 - tp: 24.0000 - fp: 0.0000e+00 - tn: 26.0000 - fn: 0.0000e+00\n",
            "Test accuracy 1.0\n",
            "Test loss 0.009215287864208221\n",
            "FP 24.0\n",
            "TP 0.0\n",
            "TN 26.0\n",
            "FN 0.0\n"
          ],
          "name": "stdout"
        }
      ]
    },
    {
      "cell_type": "code",
      "metadata": {
        "id": "Qcbdj3bAnYc3",
        "colab": {
          "base_uri": "https://localhost:8080/",
          "height": 573
        },
        "outputId": "1f6a40f8-f939-4574-f209-0900b312be7d"
      },
      "source": [
        "# summarize history for accuracy\n",
        "plt.plot(history.history['accuracy'])\n",
        "plt.plot(history.history['val_accuracy'])\n",
        "plt.title('model accuracy')\n",
        "plt.ylabel('accuracy')\n",
        "plt.xlabel('epoch')\n",
        "plt.legend(['train', 'test'], loc='upper left')\n",
        "plt.show()\n",
        "# summarize history for loss\n",
        "plt.plot(history.history['loss'])\n",
        "plt.plot(history.history['val_loss'])\n",
        "plt.title('model loss')\n",
        "plt.ylabel('loss')\n",
        "plt.xlabel('epoch')\n",
        "plt.legend(['train', 'test'], loc='upper left')\n",
        "plt.show()"
      ],
      "execution_count": null,
      "outputs": [
        {
          "output_type": "display_data",
          "data": {
            "image/png": "[encoded data removed]",
            "text/plain": [
              "<Figure size 432x288 with 1 Axes>"
            ]
          },
          "metadata": {
            "tags": [],
            "needs_background": "light"
          }
        },
        {
          "output_type": "display_data",
          "data": {
            "image/png": "[encoded data removed]",
            "text/plain": [
              "<Figure size 432x288 with 1 Axes>"
            ]
          },
          "metadata": {
            "tags": [],
            "needs_background": "light"
          }
        }
      ]
    },
    {
      "cell_type": "markdown",
      "metadata": {
        "id": "kKkmHnmY23RX"
      },
      "source": [
        "## Subject 1"
      ]
    },
    {
      "cell_type": "code",
      "metadata": {
        "id": "QUu8jW4_3Avw"
      },
      "source": [
        "import scipy.io as sio\n",
        "Samples = sio.loadmat('Xtrain_S1_alltrials.mat')\n",
        "Labels = sio.loadmat('Labels.mat')\n",
        "X1 = Samples['Xtrain']\n",
        "Y1 = Labels['Y1']"
      ],
      "execution_count": null,
      "outputs": []
    },
    {
      "cell_type": "code",
      "metadata": {
        "id": "B-E35CQf3A4n",
        "colab": {
          "base_uri": "https://localhost:8080/"
        },
        "outputId": "88d9da0c-89c1-4ce7-ea9c-8646a122c5e2"
      },
      "source": [
        "X1 = X1.swapaxes(0, 2)\n",
        "Y1 = Y1.swapaxes(0,1)\n",
        "print(X1.shape)\n",
        "print(Y1.shape)"
      ],
      "execution_count": null,
      "outputs": [
        {
          "output_type": "stream",
          "text": [
            "(252, 376, 28)\n",
            "(252, 1)\n"
          ],
          "name": "stdout"
        }
      ]
    },
    {
      "cell_type": "code",
      "metadata": {
        "id": "6_E-gXBE6xBR"
      },
      "source": [
        "idx = np.random.permutation(len(X1))\n",
        "X1 = X1[idx]\n",
        "Y1 = Y1[idx]"
      ],
      "execution_count": null,
      "outputs": []
    },
    {
      "cell_type": "code",
      "metadata": {
        "id": "iUQ2PnJd6-3P",
        "colab": {
          "base_uri": "https://localhost:8080/"
        },
        "outputId": "e7a229ae-7f38-4cc2-a23b-2663271ba85d"
      },
      "source": [
        "model = keras.models.load_model(\"Subject10_Model.h5\")\n",
        "\n",
        "test_loss, test_acc,fp,tp,tn,fn = model.evaluate(X1, Y1)\n",
        "\n",
        "print(\"Test accuracy\", test_acc)\n",
        "print(\"Test loss\", test_loss)\n",
        "print(\"TP\",tp)\n",
        "print(\"FP\",fp)\n",
        "print(\"TN\",tn)\n",
        "print(\"FN\",fn)"
      ],
      "execution_count": null,
      "outputs": [
        {
          "output_type": "stream",
          "text": [
            "8/8 [==============================] - 0s 19ms/step - loss: 2.2387 - accuracy: 0.5119 - tp: 11.0000 - fp: 8.0000 - tn: 118.0000 - fn: 115.0000\n",
            "Test accuracy 0.511904776096344\n",
            "Test loss 2.2386996746063232\n",
            "TP 8.0\n",
            "FP 11.0\n",
            "TN 118.0\n",
            "FN 115.0\n"
          ],
          "name": "stdout"
        }
      ]
    },
    {
      "cell_type": "markdown",
      "metadata": {
        "id": "mr-R3gLM3Bwa"
      },
      "source": [
        "## Subject 2"
      ]
    },
    {
      "cell_type": "code",
      "metadata": {
        "id": "YvSdPaEu3OkS"
      },
      "source": [
        "import scipy.io as sio\n",
        "Samples = sio.loadmat('Xtrain_S2_alltrials.mat')\n",
        "Labels = sio.loadmat('Labels.mat')\n",
        "X2 = Samples['Xtrain']\n",
        "Y2 = Labels['Y2']"
      ],
      "execution_count": null,
      "outputs": []
    },
    {
      "cell_type": "code",
      "metadata": {
        "id": "ZL1b5fun3OoI",
        "colab": {
          "base_uri": "https://localhost:8080/"
        },
        "outputId": "95a36b7f-3e70-4455-9f37-df2c01a1c61a"
      },
      "source": [
        "X2 = X2.swapaxes(0, 2)\n",
        "Y2 = Y2.swapaxes(0,1)\n",
        "print(X2.shape)\n",
        "print(Y2.shape)"
      ],
      "execution_count": null,
      "outputs": [
        {
          "output_type": "stream",
          "text": [
            "(204, 376, 28)\n",
            "(204, 1)\n"
          ],
          "name": "stdout"
        }
      ]
    },
    {
      "cell_type": "code",
      "metadata": {
        "id": "8Kzc-3mp7R-S"
      },
      "source": [
        "idx = np.random.permutation(len(X2))\n",
        "X2 = X2[idx]\n",
        "Y2 = Y2[idx]"
      ],
      "execution_count": null,
      "outputs": []
    },
    {
      "cell_type": "code",
      "metadata": {
        "id": "YYMq_0TS7SFg",
        "colab": {
          "base_uri": "https://localhost:8080/"
        },
        "outputId": "d79c5154-2674-48ea-af79-243154d0d75b"
      },
      "source": [
        "model = keras.models.load_model(\"Subject10_Model.h5\")\n",
        "\n",
        "test_loss, test_acc,fp,tp,tn,fn = model.evaluate(X2, Y2)\n",
        "\n",
        "print(\"Test accuracy\", test_acc)\n",
        "print(\"Test loss\", test_loss)\n",
        "print(\"FP\",fp)\n",
        "print(\"TP\",tp)\n",
        "print(\"TN\",tn)\n",
        "print(\"FN\",fn)"
      ],
      "execution_count": null,
      "outputs": [
        {
          "output_type": "stream",
          "text": [
            "7/7 [==============================] - 0s 18ms/step - loss: 1.8194 - accuracy: 0.4951 - tp: 5.0000 - fp: 6.0000 - tn: 96.0000 - fn: 97.0000\n",
            "Test accuracy 0.4950980246067047\n",
            "Test loss 1.8194352388381958\n",
            "FP 5.0\n",
            "TP 6.0\n",
            "TN 96.0\n",
            "FN 97.0\n"
          ],
          "name": "stdout"
        }
      ]
    },
    {
      "cell_type": "markdown",
      "metadata": {
        "id": "i12uk5Wv3POH"
      },
      "source": [
        "## Subject 3"
      ]
    },
    {
      "cell_type": "code",
      "metadata": {
        "id": "uzNwWmSb3Rs8"
      },
      "source": [
        "import scipy.io as sio\n",
        "Samples = sio.loadmat('Xtrain_S3_alltrials.mat')\n",
        "Labels = sio.loadmat('Labels.mat')\n",
        "X3 = Samples['Xtrain']\n",
        "Y3 = Labels['Y3']"
      ],
      "execution_count": null,
      "outputs": []
    },
    {
      "cell_type": "code",
      "metadata": {
        "id": "UwyxYxkb3Rwd",
        "colab": {
          "base_uri": "https://localhost:8080/"
        },
        "outputId": "ad637946-702d-4197-d1ae-502a26c8d634"
      },
      "source": [
        "X3 = X3.swapaxes(0, 2)\n",
        "Y3 = Y3.swapaxes(0,1)\n",
        "print(X3.shape)\n",
        "print(Y3.shape)"
      ],
      "execution_count": null,
      "outputs": [
        {
          "output_type": "stream",
          "text": [
            "(208, 376, 28)\n",
            "(208, 1)\n"
          ],
          "name": "stdout"
        }
      ]
    },
    {
      "cell_type": "code",
      "metadata": {
        "id": "dZ_fZUjl-_JV"
      },
      "source": [
        "idx = np.random.permutation(len(X3))\n",
        "X3 = X3[idx]\n",
        "Y3 = Y3[idx]"
      ],
      "execution_count": null,
      "outputs": []
    },
    {
      "cell_type": "code",
      "metadata": {
        "id": "NAo_jhLP-_RR",
        "colab": {
          "base_uri": "https://localhost:8080/"
        },
        "outputId": "862dcf3f-4aa8-40c5-cc9e-0fed80d25c02"
      },
      "source": [
        "model = keras.models.load_model(\"Subject10_Model.h5\")\n",
        "\n",
        "test_loss, test_acc,fp,tp,tn,fn = model.evaluate(X3, Y3)\n",
        "\n",
        "print(\"Test accuracy\", test_acc)\n",
        "print(\"Test loss\", test_loss)\n",
        "print(\"FP\",fp)\n",
        "print(\"TP\",tp)\n",
        "print(\"TN\",tn)\n",
        "print(\"FN\",fn)"
      ],
      "execution_count": null,
      "outputs": [
        {
          "output_type": "stream",
          "text": [
            "7/7 [==============================] - 0s 18ms/step - loss: 1.5920 - accuracy: 0.4904 - tp: 0.0000e+00 - fp: 2.0000 - tn: 102.0000 - fn: 104.0000\n",
            "Test accuracy 0.49038460850715637\n",
            "Test loss 1.5920472145080566\n",
            "FP 0.0\n",
            "TP 2.0\n",
            "TN 102.0\n",
            "FN 104.0\n"
          ],
          "name": "stdout"
        }
      ]
    },
    {
      "cell_type": "markdown",
      "metadata": {
        "id": "sWAl6kil3SSe"
      },
      "source": [
        "## Subject 4"
      ]
    },
    {
      "cell_type": "code",
      "metadata": {
        "id": "auQzZbQ43Uvg"
      },
      "source": [
        "import scipy.io as sio\n",
        "Samples = sio.loadmat('Xtrain_S4_alltrials.mat')\n",
        "Labels = sio.loadmat('Labels.mat')\n",
        "X4 = Samples['Xtrain']\n",
        "Y4 = Labels['Y4']"
      ],
      "execution_count": null,
      "outputs": []
    },
    {
      "cell_type": "code",
      "metadata": {
        "id": "J_7wCONU_H7g",
        "colab": {
          "base_uri": "https://localhost:8080/"
        },
        "outputId": "b63ef49d-3f81-48d8-e1e5-2bc41bd663d7"
      },
      "source": [
        "X4 = X4.swapaxes(0, 2)\n",
        "Y4 = Y4.swapaxes(0,1)\n",
        "print(X4.shape)\n",
        "print(Y4.shape)"
      ],
      "execution_count": null,
      "outputs": [
        {
          "output_type": "stream",
          "text": [
            "(226, 376, 28)\n",
            "(226, 1)\n"
          ],
          "name": "stdout"
        }
      ]
    },
    {
      "cell_type": "code",
      "metadata": {
        "id": "ovaQ28eN_IBA"
      },
      "source": [
        "idx = np.random.permutation(len(X4))\n",
        "X4 = X4[idx]\n",
        "Y4 = Y4[idx]"
      ],
      "execution_count": null,
      "outputs": []
    },
    {
      "cell_type": "code",
      "metadata": {
        "id": "qVsEwm1K3U4j",
        "colab": {
          "base_uri": "https://localhost:8080/"
        },
        "outputId": "58a93229-3393-447b-aafc-c8153eb325b0"
      },
      "source": [
        "model = keras.models.load_model(\"Subject10_Model.h5\")\n",
        "\n",
        "test_loss, test_acc,fp,tp,tn,fn = model.evaluate(X4, Y4)\n",
        "\n",
        "print(\"Test accuracy\", test_acc)\n",
        "print(\"Test loss\", test_loss)\n",
        "print(\"FP\",fp)\n",
        "print(\"TP\",tp)\n",
        "print(\"TN\",tn)\n",
        "print(\"FN\",fn)"
      ],
      "execution_count": null,
      "outputs": [
        {
          "output_type": "stream",
          "text": [
            "8/8 [==============================] - 0s 18ms/step - loss: 1.5878 - accuracy: 0.5088 - tp: 2.0000 - fp: 0.0000e+00 - tn: 113.0000 - fn: 111.0000\n",
            "Test accuracy 0.508849561214447\n",
            "Test loss 1.5878417491912842\n",
            "FP 2.0\n",
            "TP 0.0\n",
            "TN 113.0\n",
            "FN 111.0\n"
          ],
          "name": "stdout"
        }
      ]
    },
    {
      "cell_type": "markdown",
      "metadata": {
        "id": "Iw15nOik3Vlz"
      },
      "source": [
        "## Subject 5"
      ]
    },
    {
      "cell_type": "code",
      "metadata": {
        "id": "Wi-rqA5H3YrH"
      },
      "source": [
        "import scipy.io as sio\n",
        "Samples = sio.loadmat('Xtrain_S5_alltrials.mat')\n",
        "Labels = sio.loadmat('Labels.mat')\n",
        "X5 = Samples['Xtrain']\n",
        "Y5 = Labels['Y5']"
      ],
      "execution_count": null,
      "outputs": []
    },
    {
      "cell_type": "code",
      "metadata": {
        "id": "nPR0OfR33Yvv",
        "colab": {
          "base_uri": "https://localhost:8080/"
        },
        "outputId": "4d0d453e-4a43-49cd-8a41-84496ce8a9b0"
      },
      "source": [
        "X5 = X5.swapaxes(0, 2)\n",
        "Y5 = Y5.swapaxes(0,1)\n",
        "print(X5.shape)\n",
        "print(Y5.shape)"
      ],
      "execution_count": null,
      "outputs": [
        {
          "output_type": "stream",
          "text": [
            "(224, 376, 28)\n",
            "(224, 1)\n"
          ],
          "name": "stdout"
        }
      ]
    },
    {
      "cell_type": "code",
      "metadata": {
        "id": "uZW_2-8O_I2A"
      },
      "source": [
        "idx = np.random.permutation(len(X5))\n",
        "X5 = X5[idx]\n",
        "Y5 = Y5[idx]"
      ],
      "execution_count": null,
      "outputs": []
    },
    {
      "cell_type": "code",
      "metadata": {
        "id": "F2WG-Uox_I6z",
        "colab": {
          "base_uri": "https://localhost:8080/"
        },
        "outputId": "228a5402-7415-4860-edd8-a30617b129b6"
      },
      "source": [
        "model = keras.models.load_model(\"Subject10_Model.h5\")\n",
        "\n",
        "test_loss, test_acc,fp,tp,tn,fn = model.evaluate(X5, Y5)\n",
        "\n",
        "print(\"Test accuracy\", test_acc)\n",
        "print(\"Test loss\", test_loss)\n",
        "print(\"FP\",fp)\n",
        "print(\"TP\",tp)\n",
        "print(\"TN\",tn)\n",
        "print(\"FN\",fn)"
      ],
      "execution_count": null,
      "outputs": [
        {
          "output_type": "stream",
          "text": [
            "7/7 [==============================] - 0s 21ms/step - loss: 1.6608 - accuracy: 0.6696 - tp: 47.0000 - fp: 9.0000 - tn: 103.0000 - fn: 65.0000\n",
            "Test accuracy 0.6696428656578064\n",
            "Test loss 1.6607882976531982\n",
            "FP 47.0\n",
            "TP 9.0\n",
            "TN 103.0\n",
            "FN 65.0\n"
          ],
          "name": "stdout"
        }
      ]
    },
    {
      "cell_type": "markdown",
      "metadata": {
        "id": "Ire4kOlN3Zo1"
      },
      "source": [
        "## Subject 6"
      ]
    },
    {
      "cell_type": "code",
      "metadata": {
        "id": "8bM-VKP73cBB"
      },
      "source": [
        "import scipy.io as sio\n",
        "Samples = sio.loadmat('Xtrain_S6_alltrials.mat')\n",
        "Labels = sio.loadmat('Labels.mat')\n",
        "X6 = Samples['Xtrain']\n",
        "Y6 = Labels['Y6']"
      ],
      "execution_count": null,
      "outputs": []
    },
    {
      "cell_type": "code",
      "metadata": {
        "id": "4H-EOg5b_JrH",
        "colab": {
          "base_uri": "https://localhost:8080/"
        },
        "outputId": "2587626c-cf63-4bf7-9d8d-46989d65a6bd"
      },
      "source": [
        "X6 = X6.swapaxes(0, 2)\n",
        "Y6 = Y6.swapaxes(0,1)\n",
        "print(X6.shape)\n",
        "print(Y6.shape)"
      ],
      "execution_count": null,
      "outputs": [
        {
          "output_type": "stream",
          "text": [
            "(234, 376, 28)\n",
            "(234, 1)\n"
          ],
          "name": "stdout"
        }
      ]
    },
    {
      "cell_type": "code",
      "metadata": {
        "id": "zzEF6K8G_Jwc"
      },
      "source": [
        "idx = np.random.permutation(len(X6))\n",
        "X6 = X6[idx]\n",
        "Y6 = Y6[idx]"
      ],
      "execution_count": null,
      "outputs": []
    },
    {
      "cell_type": "code",
      "metadata": {
        "id": "urev6BrD3cEU",
        "colab": {
          "base_uri": "https://localhost:8080/"
        },
        "outputId": "39c426ab-07c2-47b8-80ec-47d4e6fa73a3"
      },
      "source": [
        "model = keras.models.load_model(\"Subject10_Model.h5\")\n",
        "\n",
        "test_loss, test_acc,fp,tp,tn,fn = model.evaluate(X6, Y6)\n",
        "\n",
        "print(\"Test accuracy\", test_acc)\n",
        "print(\"Test loss\", test_loss)\n",
        "print(\"FP\",fp)\n",
        "print(\"TP\",tp)\n",
        "print(\"TN\",tn)\n",
        "print(\"FN\",fn)"
      ],
      "execution_count": null,
      "outputs": [
        {
          "output_type": "stream",
          "text": [
            "8/8 [==============================] - 0s 19ms/step - loss: 1.2045 - accuracy: 0.5171 - tp: 12.0000 - fp: 8.0000 - tn: 109.0000 - fn: 105.0000\n",
            "Test accuracy 0.5170940160751343\n",
            "Test loss 1.204502820968628\n",
            "FP 12.0\n",
            "TP 8.0\n",
            "TN 109.0\n",
            "FN 105.0\n"
          ],
          "name": "stdout"
        }
      ]
    },
    {
      "cell_type": "markdown",
      "metadata": {
        "id": "9rIrG2Al3cZF"
      },
      "source": [
        "## Subject 7"
      ]
    },
    {
      "cell_type": "code",
      "metadata": {
        "id": "1GCaRyaP3j6Q"
      },
      "source": [
        "import scipy.io as sio\n",
        "Samples = sio.loadmat('Xtrain_S7_alltrials.mat')\n",
        "Labels = sio.loadmat('Labels.mat')\n",
        "X7 = Samples['Xtrain']\n",
        "Y7 = Labels['Y7']"
      ],
      "execution_count": null,
      "outputs": []
    },
    {
      "cell_type": "code",
      "metadata": {
        "id": "zH2CHtzp_KOo",
        "colab": {
          "base_uri": "https://localhost:8080/"
        },
        "outputId": "fd12c60a-4a35-4dd8-b460-a227ee8a919e"
      },
      "source": [
        "X7 = X7.swapaxes(0, 2)\n",
        "Y7 = Y7.swapaxes(0,1)\n",
        "print(X7.shape)\n",
        "print(Y7.shape)"
      ],
      "execution_count": null,
      "outputs": [
        {
          "output_type": "stream",
          "text": [
            "(248, 376, 28)\n",
            "(248, 1)\n"
          ],
          "name": "stdout"
        }
      ]
    },
    {
      "cell_type": "code",
      "metadata": {
        "id": "mwg4oVq7_KWB"
      },
      "source": [
        "idx = np.random.permutation(len(X7))\n",
        "X7 = X7[idx]\n",
        "Y7 = Y7[idx]"
      ],
      "execution_count": null,
      "outputs": []
    },
    {
      "cell_type": "code",
      "metadata": {
        "id": "zWq8_rTe3j-U",
        "colab": {
          "base_uri": "https://localhost:8080/"
        },
        "outputId": "6ba4d7d9-dfd2-4d4b-f8c4-66ea9ed723ef"
      },
      "source": [
        "model = keras.models.load_model(\"Subject10_Model.h5\")\n",
        "\n",
        "test_loss, test_acc,fp,tp,tn,fn = model.evaluate(X7, Y7)\n",
        "\n",
        "print(\"Test accuracy\", test_acc)\n",
        "print(\"Test loss\", test_loss)\n",
        "print(\"FP\",fp)\n",
        "print(\"TP\",tp)\n",
        "print(\"TN\",tn)\n",
        "print(\"FN\",fn)"
      ],
      "execution_count": null,
      "outputs": [
        {
          "output_type": "stream",
          "text": [
            "8/8 [==============================] - 0s 19ms/step - loss: 1.3348 - accuracy: 0.5000 - tp: 6.0000 - fp: 6.0000 - tn: 118.0000 - fn: 118.0000\n",
            "Test accuracy 0.5\n",
            "Test loss 1.3347899913787842\n",
            "FP 6.0\n",
            "TP 6.0\n",
            "TN 118.0\n",
            "FN 118.0\n"
          ],
          "name": "stdout"
        }
      ]
    },
    {
      "cell_type": "markdown",
      "metadata": {
        "id": "tX7cHiSr3kUL"
      },
      "source": [
        "## Subject 8"
      ]
    },
    {
      "cell_type": "code",
      "metadata": {
        "id": "WuLTFzjj3mPL"
      },
      "source": [
        "import scipy.io as sio\n",
        "Samples = sio.loadmat('Xtrain_S8_alltrials.mat')\n",
        "Labels = sio.loadmat('Labels.mat')\n",
        "X8 = Samples['Xtrain']\n",
        "Y8 = Labels['Y8']"
      ],
      "execution_count": null,
      "outputs": []
    },
    {
      "cell_type": "code",
      "metadata": {
        "id": "KOH21oIn_LFz",
        "colab": {
          "base_uri": "https://localhost:8080/"
        },
        "outputId": "3eeac4ce-2a69-415b-c3e1-6b59e492834f"
      },
      "source": [
        "X8 = X8.swapaxes(0, 2)\n",
        "Y8 = Y8.swapaxes(0,1)\n",
        "print(X8.shape)\n",
        "print(Y8.shape)"
      ],
      "execution_count": null,
      "outputs": [
        {
          "output_type": "stream",
          "text": [
            "(242, 376, 28)\n",
            "(242, 1)\n"
          ],
          "name": "stdout"
        }
      ]
    },
    {
      "cell_type": "code",
      "metadata": {
        "id": "32_N1C2d_LMI"
      },
      "source": [
        "idx = np.random.permutation(len(X8))\n",
        "X8 = X8[idx]\n",
        "Y8 = Y8[idx]"
      ],
      "execution_count": null,
      "outputs": []
    },
    {
      "cell_type": "code",
      "metadata": {
        "id": "iUcl9Rhw3mSH",
        "colab": {
          "base_uri": "https://localhost:8080/"
        },
        "outputId": "1203f0cd-c4e1-45e4-8063-56194be20c9f"
      },
      "source": [
        "model = keras.models.load_model(\"Subject10_Model.h5\")\n",
        "\n",
        "test_loss, test_acc,fp,tp,tn,fn = model.evaluate(X8, Y8)\n",
        "\n",
        "print(\"Test accuracy\", test_acc)\n",
        "print(\"Test loss\", test_loss)\n",
        "print(\"FP\",fp)\n",
        "print(\"TP\",tp)\n",
        "print(\"TN\",tn)\n",
        "print(\"FN\",fn)"
      ],
      "execution_count": null,
      "outputs": [
        {
          "output_type": "stream",
          "text": [
            "8/8 [==============================] - 0s 20ms/step - loss: 1.5137 - accuracy: 0.5165 - tp: 30.0000 - fp: 26.0000 - tn: 95.0000 - fn: 91.0000\n",
            "Test accuracy 0.5165289044380188\n",
            "Test loss 1.5137457847595215\n",
            "FP 30.0\n",
            "TP 26.0\n",
            "TN 95.0\n",
            "FN 91.0\n"
          ],
          "name": "stdout"
        }
      ]
    },
    {
      "cell_type": "markdown",
      "metadata": {
        "id": "kPiAXS0v3mg4"
      },
      "source": [
        "## Subject 9"
      ]
    },
    {
      "cell_type": "code",
      "metadata": {
        "id": "8r6YYst83olk"
      },
      "source": [
        "import scipy.io as sio\n",
        "Samples = sio.loadmat('Xtrain_S9_alltrials.mat')\n",
        "Labels = sio.loadmat('Labels.mat')\n",
        "X9 = Samples['Xtrain']\n",
        "Y9 = Labels['Y9']"
      ],
      "execution_count": null,
      "outputs": []
    },
    {
      "cell_type": "code",
      "metadata": {
        "id": "QfPLq7b33opD",
        "colab": {
          "base_uri": "https://localhost:8080/"
        },
        "outputId": "5a0c81fa-f60f-43bc-e452-41f5f7b135b3"
      },
      "source": [
        "X9 = X9.swapaxes(0, 2)\n",
        "Y9 = Y9.swapaxes(0,1)\n",
        "print(X9.shape)\n",
        "print(Y9.shape)"
      ],
      "execution_count": null,
      "outputs": [
        {
          "output_type": "stream",
          "text": [
            "(266, 376, 28)\n",
            "(266, 1)\n"
          ],
          "name": "stdout"
        }
      ]
    },
    {
      "cell_type": "code",
      "metadata": {
        "id": "G9zsCY3W_MEl"
      },
      "source": [
        "idx = np.random.permutation(len(X9))\n",
        "X9 = X9[idx]\n",
        "Y9 = Y9[idx]"
      ],
      "execution_count": null,
      "outputs": []
    },
    {
      "cell_type": "code",
      "metadata": {
        "id": "tcdRfS_A_MMt",
        "colab": {
          "base_uri": "https://localhost:8080/"
        },
        "outputId": "852e4e0a-93ae-4ec2-dd64-4b909e765e8e"
      },
      "source": [
        "model = keras.models.load_model(\"Subject10_Model.h5\")\n",
        "\n",
        "test_loss, test_acc,fp,tp,tn,fn = model.evaluate(X9, Y9)\n",
        "\n",
        "print(\"Test accuracy\", test_acc)\n",
        "print(\"Test loss\", test_loss)\n",
        "print(\"FP\",fp)\n",
        "print(\"TP\",tp)\n",
        "print(\"TN\",tn)\n",
        "print(\"FN\",fn)"
      ],
      "execution_count": null,
      "outputs": [
        {
          "output_type": "stream",
          "text": [
            "9/9 [==============================] - 0s 18ms/step - loss: 28.5835 - accuracy: 0.5000 - tp: 133.0000 - fp: 133.0000 - tn: 0.0000e+00 - fn: 0.0000e+00\n",
            "Test accuracy 0.5\n",
            "Test loss 28.58352279663086\n",
            "FP 133.0\n",
            "TP 133.0\n",
            "TN 0.0\n",
            "FN 0.0\n"
          ],
          "name": "stdout"
        }
      ]
    },
    {
      "cell_type": "markdown",
      "metadata": {
        "id": "TrgnpIgw3o8M"
      },
      "source": [
        "## Subject 11"
      ]
    },
    {
      "cell_type": "code",
      "metadata": {
        "id": "NJVz3MOm3rFt"
      },
      "source": [
        "import scipy.io as sio\n",
        "Samples = sio.loadmat('Xtrain_S11_alltrials.mat')\n",
        "Labels = sio.loadmat('Labels.mat')\n",
        "X11 = Samples['Xtrain']\n",
        "Y11 = Labels['Y11']"
      ],
      "execution_count": null,
      "outputs": []
    },
    {
      "cell_type": "code",
      "metadata": {
        "id": "5Tepo5wm_deW",
        "colab": {
          "base_uri": "https://localhost:8080/"
        },
        "outputId": "471034cd-c8e8-4a9e-bcda-efe8aa608010"
      },
      "source": [
        "X11 = X11.swapaxes(0, 2)\n",
        "Y11 = Y11.swapaxes(0,1)\n",
        "print(X11.shape)\n",
        "print(Y11.shape)"
      ],
      "execution_count": null,
      "outputs": [
        {
          "output_type": "stream",
          "text": [
            "(248, 376, 28)\n",
            "(248, 1)\n"
          ],
          "name": "stdout"
        }
      ]
    },
    {
      "cell_type": "code",
      "metadata": {
        "id": "2PoKvUKX_dkQ"
      },
      "source": [
        "idx = np.random.permutation(len(X11))\n",
        "X11 = X11[idx]\n",
        "Y11 = Y11[idx]"
      ],
      "execution_count": null,
      "outputs": []
    },
    {
      "cell_type": "code",
      "metadata": {
        "id": "lHyZoaRD3rIg",
        "colab": {
          "base_uri": "https://localhost:8080/"
        },
        "outputId": "822e0111-bbce-4aa9-94fe-1e3c58321ab1"
      },
      "source": [
        "model = keras.models.load_model(\"Subject10_Model.h5\")\n",
        "\n",
        "test_loss, test_acc,fp,tp,tn,fn = model.evaluate(X11, Y11)\n",
        "\n",
        "print(\"Test accuracy\", test_acc)\n",
        "print(\"Test loss\", test_loss)\n",
        "print(\"FP\",fp)\n",
        "print(\"TP\",tp)\n",
        "print(\"TN\",tn)\n",
        "print(\"FN\",fn)"
      ],
      "execution_count": null,
      "outputs": [
        {
          "output_type": "stream",
          "text": [
            "8/8 [==============================] - 0s 21ms/step - loss: 2.4065 - accuracy: 0.4758 - tp: 34.0000 - fp: 40.0000 - tn: 84.0000 - fn: 90.0000\n",
            "Test accuracy 0.47580644488334656\n",
            "Test loss 2.4065427780151367\n",
            "FP 34.0\n",
            "TP 40.0\n",
            "TN 84.0\n",
            "FN 90.0\n"
          ],
          "name": "stdout"
        }
      ]
    },
    {
      "cell_type": "markdown",
      "metadata": {
        "id": "P9KWlm_d3rVW"
      },
      "source": [
        "## Subject 12"
      ]
    },
    {
      "cell_type": "code",
      "metadata": {
        "id": "ocYKaOFe3tns"
      },
      "source": [
        "import scipy.io as sio\n",
        "Samples = sio.loadmat('Xtrain_S12_alltrials.mat')\n",
        "Labels = sio.loadmat('Labels.mat')\n",
        "X12 = Samples['Xtrain']\n",
        "Y12 = Labels['Y12']"
      ],
      "execution_count": null,
      "outputs": []
    },
    {
      "cell_type": "code",
      "metadata": {
        "id": "h4OIXC5r_eYN",
        "colab": {
          "base_uri": "https://localhost:8080/"
        },
        "outputId": "0cc683a1-3bab-4901-dcbf-f72b6bed436f"
      },
      "source": [
        "X12 = X12.swapaxes(0, 2)\n",
        "Y12 = Y12.swapaxes(0,1)\n",
        "print(X12.shape)\n",
        "print(Y12.shape)"
      ],
      "execution_count": null,
      "outputs": [
        {
          "output_type": "stream",
          "text": [
            "(242, 376, 28)\n",
            "(242, 1)\n"
          ],
          "name": "stdout"
        }
      ]
    },
    {
      "cell_type": "code",
      "metadata": {
        "id": "H_WaiJuc_edO"
      },
      "source": [
        "idx = np.random.permutation(len(X12))\n",
        "X12 = X12[idx]\n",
        "Y12 = Y12[idx]"
      ],
      "execution_count": null,
      "outputs": []
    },
    {
      "cell_type": "code",
      "metadata": {
        "id": "uyMvegHW3tqt",
        "colab": {
          "base_uri": "https://localhost:8080/"
        },
        "outputId": "75bc5cdd-8a95-4923-abbb-b3d8de2cef48"
      },
      "source": [
        "model = keras.models.load_model(\"Subject10_Model.h5\")\n",
        "\n",
        "test_loss, test_acc,fp,tp,tn,fn = model.evaluate(X12, Y12)\n",
        "\n",
        "print(\"Test accuracy\", test_acc)\n",
        "print(\"Test loss\", test_loss)\n",
        "print(\"FP\",fp)\n",
        "print(\"TP\",tp)\n",
        "print(\"TN\",tn)\n",
        "print(\"FN\",fn)"
      ],
      "execution_count": null,
      "outputs": [
        {
          "output_type": "stream",
          "text": [
            "8/8 [==============================] - 0s 19ms/step - loss: 9.6043 - accuracy: 0.4628 - tp: 54.0000 - fp: 63.0000 - tn: 58.0000 - fn: 67.0000\n",
            "Test accuracy 0.4628099203109741\n",
            "Test loss 9.604304313659668\n",
            "FP 54.0\n",
            "TP 63.0\n",
            "TN 58.0\n",
            "FN 67.0\n"
          ],
          "name": "stdout"
        }
      ]
    }
  ]
}